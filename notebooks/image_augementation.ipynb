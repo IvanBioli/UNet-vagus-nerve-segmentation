{
 "cells": [
  {
   "cell_type": "code",
   "execution_count": 11,
   "id": "3cbb3578",
   "metadata": {},
   "outputs": [],
   "source": [
    "import tensorflow as tf\n",
    "from tensorflow import keras\n",
    "from keras.preprocessing.image import ImageDataGenerator, array_to_img, img_to_array, load_img"
   ]
  },
  {
   "cell_type": "code",
   "execution_count": 12,
   "id": "f3b75268",
   "metadata": {},
   "outputs": [],
   "source": [
    "img_path = '../data/sample/'\n",
    "augmented_path = '../data/augmented'"
   ]
  },
  {
   "cell_type": "code",
   "execution_count": 23,
   "id": "5378e314",
   "metadata": {},
   "outputs": [],
   "source": [
    "datagen = ImageDataGenerator(\n",
    "        rotation_range=40,\n",
    "        width_shift_range=0.2,\n",
    "        height_shift_range=0.2,\n",
    "        shear_range=0.2,\n",
    "        zoom_range=0.2,\n",
    "        horizontal_flip=True,\n",
    "        vertical_flip=True,\n",
    "        fill_mode='nearest',\n",
    "        )"
   ]
  },
  {
   "cell_type": "code",
   "execution_count": 45,
   "id": "fe074f9c",
   "metadata": {},
   "outputs": [
    {
     "name": "stdout",
     "output_type": "stream",
     "text": [
      "Found 10 images belonging to 1 classes.\n"
     ]
    }
   ],
   "source": [
    "generator = datagen.flow_from_directory(directory=img_path,\n",
    "                                       target_size=(400,400),\n",
    "                                       batch_size=1,\n",
    "                                       class_mode=None, \n",
    "                                       save_to_dir=augmented_path,\n",
    "                                       save_prefix='augmented',\n",
    "                                       save_format='tif')"
   ]
  },
  {
   "cell_type": "code",
   "execution_count": 46,
   "id": "8e10b848",
   "metadata": {},
   "outputs": [],
   "source": [
    "for i in range(100):\n",
    "    generator.next()"
   ]
  },
  {
   "cell_type": "code",
   "execution_count": null,
   "id": "15c7d9bd",
   "metadata": {},
   "outputs": [],
   "source": []
  }
 ],
 "metadata": {
  "kernelspec": {
   "display_name": "Python 3",
   "language": "python",
   "name": "python3"
  },
  "language_info": {
   "codemirror_mode": {
    "name": "ipython",
    "version": 3
   },
   "file_extension": ".py",
   "mimetype": "text/x-python",
   "name": "python",
   "nbconvert_exporter": "python",
   "pygments_lexer": "ipython3",
   "version": "3.9.7"
  }
 },
 "nbformat": 4,
 "nbformat_minor": 5
}
