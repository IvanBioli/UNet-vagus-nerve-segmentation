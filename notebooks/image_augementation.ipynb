{
 "cells": [
  {
   "cell_type": "code",
   "execution_count": 9,
   "id": "3cbb3578",
   "metadata": {},
   "outputs": [],
   "source": [
    "import tensorflow as tf\n",
    "from tensorflow import keras\n",
    "from tensorflow.keras.preprocessing.image import ImageDataGenerator, array_to_img, img_to_array, load_img"
   ]
  },
  {
   "cell_type": "code",
   "execution_count": 10,
   "id": "5378e314",
   "metadata": {},
   "outputs": [],
   "source": [
    "datagen = ImageDataGenerator(\n",
    "        rotation_range=40,\n",
    "        width_shift_range=0.2,\n",
    "        height_shift_range=0.2,\n",
    "        shear_range=0.2,\n",
    "        zoom_range=0.2,\n",
    "        horizontal_flip=True,\n",
    "        vertical_flip=True,\n",
    "        fill_mode='nearest',\n",
    "        )"
   ]
  },
  {
   "cell_type": "code",
   "execution_count": 11,
   "id": "fe074f9c",
   "metadata": {},
   "outputs": [],
   "source": [
    "batch_size = 1\n",
    "img_size = (160, 160)\n",
    "num_classes = 256\n",
    "val_samples = 5\n",
    "epochs = 1\n",
    "seed=1\n",
    "sample_size = 77\n",
    "steps_per_epoch = sample_size / batch_size"
   ]
  },
  {
   "cell_type": "code",
   "execution_count": 12,
   "id": "15c7d9bd",
   "metadata": {},
   "outputs": [
    {
     "name": "stdout",
     "output_type": "stream",
     "text": [
      "Found 77 images belonging to 1 classes.\n",
      "Found 62 images belonging to 1 classes.\n",
      "Found 62 images belonging to 1 classes.\n",
      "Found 15 images belonging to 1 classes.\n",
      "Found 15 images belonging to 1 classes.\n"
     ]
    }
   ],
   "source": [
    "img_path = '../data/train/images'\n",
    "anno_path = '../data/train/annotations'\n",
    "augmented_path = '../data/train/augmented'\n",
    "\n",
    "generator = datagen.flow_from_directory(directory=img_path,\n",
    "                                       target_size=(400,400),\n",
    "                                       batch_size=1,\n",
    "                                       class_mode=None,\n",
    "                                       save_to_dir=augmented_path,\n",
    "                                       save_prefix='augmented',\n",
    "                                       save_format='tif')\n",
    "\n",
    "data_gen_arcs = dict(rotation_range=40,\n",
    "                    width_shift_range=0.2,\n",
    "                    height_shift_range=0.2,\n",
    "                    shear_range=0.2,\n",
    "                    zoom_range=0.2,\n",
    "                    horizontal_flip=True,\n",
    "                    vertical_flip=True,\n",
    "                    fill_mode='nearest',\n",
    "                    validation_split=0.2)\n",
    "\n",
    "img_datagen = ImageDataGenerator(**data_gen_arcs)\n",
    "anno_datagen = ImageDataGenerator(**data_gen_arcs)\n",
    "\n",
    "train_img_generator = img_datagen.flow_from_directory(directory=img_path,\n",
    "                                                      target_size=img_size,\n",
    "                                                      batch_size=batch_size,\n",
    "                                                      class_mode=None,\n",
    "                                                      seed=seed,\n",
    "                                                      save_to_dir=augmented_path,\n",
    "                                                      save_prefix='augmented_train',\n",
    "                                                      save_format='png',\n",
    "                                                      subset='training')\n",
    "\n",
    "train_anno_generator = anno_datagen.flow_from_directory(directory=anno_path,\n",
    "                                                        target_size=img_size,\n",
    "                                                        batch_size=batch_size,\n",
    "                                                        class_mode=None,\n",
    "                                                        seed=seed,\n",
    "                                                        save_to_dir=augmented_path,\n",
    "                                                        save_prefix='augmented_anno',\n",
    "                                                        save_format='png',\n",
    "                                                        subset='training')\n",
    "\n",
    "val_img_generator = img_datagen.flow_from_directory(directory=img_path,\n",
    "                                                    target_size=img_size,\n",
    "                                                    batch_size=batch_size,\n",
    "                                                    class_mode=None,\n",
    "                                                    seed=seed,\n",
    "                                                    subset='validation')\n",
    "\n",
    "val_anno_generator = anno_datagen.flow_from_directory(directory=anno_path,\n",
    "                                                      target_size=img_size,\n",
    "                                                      batch_size=batch_size,\n",
    "                                                      class_mode=None,\n",
    "                                                      seed=seed,\n",
    "                                                      subset='validation')\n",
    "\n",
    "train_generator = zip(train_img_generator, train_anno_generator)\n",
    "val_generator = zip(val_img_generator, val_anno_generator)"
   ]
  },
  {
   "cell_type": "code",
   "execution_count": 13,
   "id": "db635cfa",
   "metadata": {},
   "outputs": [],
   "source": [
    "a = train_img_generator.next()"
   ]
  },
  {
   "cell_type": "code",
   "execution_count": 15,
   "id": "15bbea8e",
   "metadata": {},
   "outputs": [
    {
     "data": {
      "text/plain": "array([[[[255.     , 254.     , 252.     ],\n         [255.     , 254.     , 252.     ],\n         [254.422  , 254.     , 252.     ],\n         ...,\n         [254.     , 254.     , 252.31818],\n         [254.     , 254.     , 253.3966 ],\n         [254.     , 254.     , 253.52498]],\n\n        [[254.5723 , 254.     , 252.     ],\n         [255.     , 254.     , 252.     ],\n         [255.     , 254.     , 252.     ],\n         ...,\n         [254.     , 254.     , 253.87555],\n         [254.     , 254.     , 253.04604],\n         [254.     , 254.     , 252.0324 ]],\n\n        [[253.97983, 254.02017, 252.     ],\n         [254.68645, 254.     , 252.     ],\n         [255.     , 254.     , 252.     ],\n         ...,\n         [254.     , 254.     , 252.5671 ],\n         [254.     , 254.     , 252.51134],\n         [254.     , 254.     , 253.58975]],\n\n        ...,\n\n        [[192.75612, 189.53668, 204.02446],\n         [192.11403, 189.8187 , 204.70468],\n         [190.49638, 187.66185, 204.16547],\n         ...,\n         [209.42508, 215.25505, 241.34006],\n         [212.95815, 217.3749 , 244.16652],\n         [213.50175, 217.50175, 243.50526]],\n\n        [[191.39561, 188.86081, 204.46521],\n         [190.     , 187.074  , 203.85199],\n         [190.     , 187.61322, 202.77356],\n         ...,\n         [212.04475, 218.04475, 244.04475],\n         [209.99579, 215.59747, 241.79663],\n         [213.52885, 217.71732, 244.6231 ]],\n\n        [[190.     , 187.31348, 203.37305],\n         [190.     , 187.85269, 202.29462],\n         [191.1757 , 187.2162 , 202.7838 ],\n         ...,\n         [215.09993, 221.09993, 247.09993],\n         [211.35991, 217.35991, 243.35991],\n         [210.5665 , 215.9399 , 242.25319]]]], dtype=float32)"
     },
     "execution_count": 15,
     "metadata": {},
     "output_type": "execute_result"
    }
   ],
   "source": [
    "# a.shape\n",
    "a"
   ]
  },
  {
   "cell_type": "code",
   "execution_count": null,
   "outputs": [],
   "source": [],
   "metadata": {
    "collapsed": false,
    "pycharm": {
     "name": "#%%\n"
    }
   }
  }
 ],
 "metadata": {
  "kernelspec": {
   "display_name": "Python 3",
   "language": "python",
   "name": "python3"
  },
  "language_info": {
   "codemirror_mode": {
    "name": "ipython",
    "version": 3
   },
   "file_extension": ".py",
   "mimetype": "text/x-python",
   "name": "python",
   "nbconvert_exporter": "python",
   "pygments_lexer": "ipython3",
   "version": "3.9.7"
  }
 },
 "nbformat": 4,
 "nbformat_minor": 5
}