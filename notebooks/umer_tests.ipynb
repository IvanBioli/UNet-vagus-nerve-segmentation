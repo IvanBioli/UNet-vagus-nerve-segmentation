{
 "cells": [
  {
   "cell_type": "code",
   "execution_count": null,
   "id": "brazilian-denial",
   "metadata": {},
   "outputs": [],
   "source": [
    "import shutil\n",
    "import os\n",
    "    \n",
    "source_dir = '/path/to/source_folder'\n",
    "target_dir = '/path/to/dest_folder'\n",
    "    \n",
    "\n",
    "\n",
    "# Convert google drive vagus_dataset_1 into model ready format\n",
    "def dataset_convert_script(input_folder, output_folder):\n",
    "    file_names = os.listdir(source_dir)\n",
    "    \n",
    "    for file_name in file_names:\n",
    "        shutil.move(os.path.join(source_dir, file_name), target_dir)"
   ]
  }
 ],
 "metadata": {
  "kernelspec": {
   "display_name": "Python 3 (ipykernel)",
   "language": "python",
   "name": "python3"
  },
  "language_info": {
   "codemirror_mode": {
    "name": "ipython",
    "version": 3
   },
   "file_extension": ".py",
   "mimetype": "text/x-python",
   "name": "python",
   "nbconvert_exporter": "python",
   "pygments_lexer": "ipython3",
   "version": "3.8.8"
  }
 },
 "nbformat": 4,
 "nbformat_minor": 5
}
